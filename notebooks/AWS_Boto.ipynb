{
 "cells": [
  {
   "cell_type": "code",
   "execution_count": 14,
   "metadata": {},
   "outputs": [],
   "source": [
    "import boto3\n",
    "import pandas\n",
    "import os"
   ]
  },
  {
   "cell_type": "code",
   "execution_count": 6,
   "metadata": {},
   "outputs": [],
   "source": [
    "# Creating an S3 agent\n",
    "s3 = boto3.client('s3', region_name='us-east-1',\n",
    "                        aws_access_key_id='',\n",
    "                        aws_secret_access_key='')\n"
   ]
  },
  {
   "cell_type": "code",
   "execution_count": null,
   "metadata": {},
   "outputs": [],
   "source": [
    "# Listing the buckets\n",
    "bucket_response = s3.list_buckets()\n",
    "print(bucket_response['Buckets'])"
   ]
  },
  {
   "cell_type": "code",
   "execution_count": 13,
   "metadata": {},
   "outputs": [
    {
     "data": {
      "text/plain": [
       "{'ResponseMetadata': {'RequestId': '2B0WCRB0DNGFCRFZ',\n",
       "  'HostId': '+ERvE1naxzqwphN/Nn8bXR8kcle7ABtkr4L/8VLW9Cqcti3E9Wag5f17zYCEJtuvfykKLNCPq80=',\n",
       "  'HTTPStatusCode': 200,\n",
       "  'HTTPHeaders': {'x-amz-id-2': '+ERvE1naxzqwphN/Nn8bXR8kcle7ABtkr4L/8VLW9Cqcti3E9Wag5f17zYCEJtuvfykKLNCPq80=',\n",
       "   'x-amz-request-id': '2B0WCRB0DNGFCRFZ',\n",
       "   'date': 'Fri, 26 Jul 2024 07:21:59 GMT',\n",
       "   'location': '/botobuckettest',\n",
       "   'server': 'AmazonS3',\n",
       "   'content-length': '0'},\n",
       "  'RetryAttempts': 0},\n",
       " 'Location': '/botobuckettest'}"
      ]
     },
     "execution_count": 13,
     "metadata": {},
     "output_type": "execute_result"
    }
   ],
   "source": [
    "# Creating a new bucket\n",
    "s3.create_bucket(Bucket='botobuckettest')"
   ]
  },
  {
   "cell_type": "code",
   "execution_count": 7,
   "metadata": {},
   "outputs": [
    {
     "name": "stdout",
     "output_type": "stream",
     "text": [
      "[{'Name': 'de-dp-athena-job-us-east-1', 'CreationDate': datetime.datetime(2023, 9, 1, 21, 0, 6, tzinfo=tzutc())}, {'Name': 'de-dp-raw-cleaned-us-east-1', 'CreationDate': datetime.datetime(2023, 9, 1, 21, 1, 24, tzinfo=tzutc())}, {'Name': 'de-dp-raw-us-east-1', 'CreationDate': datetime.datetime(2023, 9, 1, 20, 52, 27, tzinfo=tzutc())}, {'Name': 'demo-s3-bkt-01', 'CreationDate': datetime.datetime(2023, 9, 12, 0, 58, tzinfo=tzutc())}, {'Name': 'mybucket20230618', 'CreationDate': datetime.datetime(2023, 6, 19, 1, 43, 15, tzinfo=tzutc())}, {'Name': 'test-bucket-20230618', 'CreationDate': datetime.datetime(2023, 6, 19, 1, 36, 13, tzinfo=tzutc())}]\n"
     ]
    }
   ],
   "source": [
    "print(bucket_response['Buckets'])"
   ]
  },
  {
   "cell_type": "code",
   "execution_count": 18,
   "metadata": {},
   "outputs": [],
   "source": [
    "# Uploading to S3 Bucket\n",
    "s3.upload_file(Filename='logfile',\n",
    "               Bucket='botobuckettest',\n",
    "               Key='test_logfile')"
   ]
  },
  {
   "cell_type": "code",
   "execution_count": 20,
   "metadata": {},
   "outputs": [
    {
     "data": {
      "text/plain": [
       "{'ResponseMetadata': {'RequestId': 'D13PQQCN39FSN579',\n",
       "  'HostId': 'iYzo8MAFG7vC7968tODVpkBaY082KW+6KR0Wy4NjehMLbM6qIAaX8/yQqV+vdJ4TcuH1nnxfVi54LBONcpUnAg==',\n",
       "  'HTTPStatusCode': 200,\n",
       "  'HTTPHeaders': {'x-amz-id-2': 'iYzo8MAFG7vC7968tODVpkBaY082KW+6KR0Wy4NjehMLbM6qIAaX8/yQqV+vdJ4TcuH1nnxfVi54LBONcpUnAg==',\n",
       "   'x-amz-request-id': 'D13PQQCN39FSN579',\n",
       "   'date': 'Fri, 26 Jul 2024 07:42:44 GMT',\n",
       "   'x-amz-bucket-region': 'us-east-1',\n",
       "   'content-type': 'application/xml',\n",
       "   'transfer-encoding': 'chunked',\n",
       "   'server': 'AmazonS3'},\n",
       "  'RetryAttempts': 0},\n",
       " 'IsTruncated': False,\n",
       " 'Marker': '',\n",
       " 'Contents': [{'Key': 'test_logfile',\n",
       "   'LastModified': datetime.datetime(2024, 7, 26, 7, 33, 6, tzinfo=tzutc()),\n",
       "   'ETag': '\"647a3367c3df75c0e243ef7ba4b4a72d\"',\n",
       "   'Size': 1116,\n",
       "   'StorageClass': 'STANDARD',\n",
       "   'Owner': {'DisplayName': 'sidharth1294',\n",
       "    'ID': '562b1517925533790765faef04ba8f6c948a99f481336da5d03273b3b6940558'}}],\n",
       " 'Name': 'botobuckettest',\n",
       " 'Prefix': 'test_',\n",
       " 'MaxKeys': 1000,\n",
       " 'EncodingType': 'url'}"
      ]
     },
     "execution_count": 20,
     "metadata": {},
     "output_type": "execute_result"
    }
   ],
   "source": [
    "bucket_response = s3.list_objects(Bucket='botobuckettest',\n",
    "                                  Prefix='test_')\n",
    "\n",
    "bucket_response"
   ]
  },
  {
   "cell_type": "code",
   "execution_count": 19,
   "metadata": {},
   "outputs": [
    {
     "data": {
      "text/plain": [
       "{'ResponseMetadata': {'RequestId': '06QWRWPQ3VT64X3C',\n",
       "  'HostId': 'k2pxUSWcoWNYgmOy6JdDx3Dnz3R4jodSLxq8vaY7SyMIwfWZoqDTNLOqdhdjKuTmKUJu1VZpDwg19eM4hLN//+vJd0Ezz/Scd1ToxYirGsw=',\n",
       "  'HTTPStatusCode': 200,\n",
       "  'HTTPHeaders': {'x-amz-id-2': 'k2pxUSWcoWNYgmOy6JdDx3Dnz3R4jodSLxq8vaY7SyMIwfWZoqDTNLOqdhdjKuTmKUJu1VZpDwg19eM4hLN//+vJd0Ezz/Scd1ToxYirGsw=',\n",
       "   'x-amz-request-id': '06QWRWPQ3VT64X3C',\n",
       "   'date': 'Fri, 26 Jul 2024 07:40:10 GMT',\n",
       "   'last-modified': 'Fri, 26 Jul 2024 07:33:06 GMT',\n",
       "   'etag': '\"647a3367c3df75c0e243ef7ba4b4a72d\"',\n",
       "   'x-amz-server-side-encryption': 'AES256',\n",
       "   'accept-ranges': 'bytes',\n",
       "   'content-type': 'binary/octet-stream',\n",
       "   'server': 'AmazonS3',\n",
       "   'content-length': '1116'},\n",
       "  'RetryAttempts': 0},\n",
       " 'AcceptRanges': 'bytes',\n",
       " 'LastModified': datetime.datetime(2024, 7, 26, 7, 33, 6, tzinfo=tzutc()),\n",
       " 'ContentLength': 1116,\n",
       " 'ETag': '\"647a3367c3df75c0e243ef7ba4b4a72d\"',\n",
       " 'ContentType': 'binary/octet-stream',\n",
       " 'ServerSideEncryption': 'AES256',\n",
       " 'Metadata': {}}"
      ]
     },
     "execution_count": 19,
     "metadata": {},
     "output_type": "execute_result"
    }
   ],
   "source": [
    "# Details of a specific Bucket\n",
    "s3.head_object(Bucket='botobuckettest',\n",
    "               Key='test_logfile')"
   ]
  }
 ],
 "metadata": {
  "kernelspec": {
   "display_name": "Python 3.11.5 ('base')",
   "language": "python",
   "name": "python3"
  },
  "language_info": {
   "codemirror_mode": {
    "name": "ipython",
    "version": 3
   },
   "file_extension": ".py",
   "mimetype": "text/x-python",
   "name": "python",
   "nbconvert_exporter": "python",
   "pygments_lexer": "ipython3",
   "version": "3.11.5"
  },
  "orig_nbformat": 4,
  "vscode": {
   "interpreter": {
    "hash": "ac9d25aa1809562b78450ffbaf528b6067bd8b0570a3ba43fb0c8aa79f9941b4"
   }
  }
 },
 "nbformat": 4,
 "nbformat_minor": 2
}
