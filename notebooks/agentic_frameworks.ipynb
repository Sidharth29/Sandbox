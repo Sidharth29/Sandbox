{
 "cells": [
  {
   "cell_type": "markdown",
   "metadata": {},
   "source": [
    "# Agentic Framework in Llama Index"
   ]
  },
  {
   "cell_type": "markdown",
   "metadata": {},
   "source": [
    "## Tool Use\n",
    "\n",
    "The FunctionTool module can be used here to convert any function into a tool that the agent could call if it feels the necessity\n",
    "\n"
   ]
  },
  {
   "cell_type": "code",
   "execution_count": 1,
   "metadata": {},
   "outputs": [],
   "source": [
    "import requests\n",
    "from llama_index.core.tools import FunctionTool\n",
    "from llama_index.llms.openai import OpenAI\n",
    "import nest_asyncio\n",
    "nest_asyncio.apply()"
   ]
  },
  {
   "cell_type": "code",
   "execution_count": 2,
   "metadata": {},
   "outputs": [],
<<<<<<< HEAD
   "source": []
=======
   "source": [
    "# Declare API_KEY and OPENAI_API_KEY."
   ]
>>>>>>> 70b38f7 (agentic workflows)
  },
  {
   "cell_type": "markdown",
   "metadata": {},
   "source": [
    "### 1. To access external API data "
   ]
  },
  {
   "cell_type": "code",
   "execution_count": 3,
   "metadata": {},
   "outputs": [],
   "source": [
    "def get_weather(city_name, units='imperial'):\n",
    "    \"\"\"\n",
    "    Function that taken in a city name and units and returns the temperature and description of weather\n",
    "\n",
    "    Args:\n",
    "    city_name: The name of the city (ex: Los Angeles)\n",
    "    units: The measurement units for tempreature (Options: imperial - fahreinheit, metric - celsius), Default: fahrenheit (imperial)\n",
    "\n",
    "    Return:\n",
    "    city: Name of the City\n",
    "    temperature: the temperature in the provided measurement units\n",
    "    description: the short description of the weather\n",
    "    \"\"\"\n",
    "    base_url = \"http://api.openweathermap.org/data/2.5/weather?\"\n",
    "    complete_url = base_url + \"appid=\" + API_KEY + \"&q=\" + city_name + \"&units=\" + units\n",
    "    \n",
    "    response = requests.get(complete_url)\n",
    "    \n",
    "    if response.status_code == 200:\n",
    "        weather_data = response.json()\n",
    "        return {\n",
    "            'city': city_name,\n",
    "            'temperature': weather_data['main']['temp'],\n",
    "            'description': weather_data['weather'][0]['description']\n",
    "        }\n",
    "    else:\n",
    "        return {'error': 'Failed to retrieve weather data', 'status_code': response.status_code}"
   ]
  },
  {
   "cell_type": "code",
   "execution_count": 4,
   "metadata": {},
   "outputs": [],
   "source": [
    "# Declare tool\n",
    "weather_fetch_tool = FunctionTool.from_defaults(fn=get_weather)"
   ]
  },
  {
   "cell_type": "markdown",
   "metadata": {},
   "source": [
    "#### Instance of simple function call using the OpenAI LLM"
   ]
  },
  {
   "cell_type": "code",
   "execution_count": 5,
   "metadata": {},
   "outputs": [
    {
     "name": "stdout",
     "output_type": "stream",
     "text": [
      "=== Calling Function ===\n",
      "Calling function: get_weather with args: {\"city_name\": \"San Jose\"}\n",
      "=== Function Output ===\n",
      "{'city': 'San Jose', 'temperature': 72.91, 'description': 'broken clouds'}\n",
      "{'city': 'San Jose', 'temperature': 72.91, 'description': 'broken clouds'}\n"
     ]
    }
   ],
   "source": [
    "# Use query engine with the tool\n",
    "\n",
    "llm = OpenAI(model=\"gpt-3.5-turbo\", api_key=OPENAI_API_KEY)\n",
    "response = llm.predict_and_call(\n",
    "    [weather_fetch_tool], \n",
    "    \"How is the weather in San Jose right now?\", \n",
    "    verbose=True\n",
    ")\n",
    "print(str(response))"
   ]
  },
  {
   "cell_type": "markdown",
   "metadata": {},
   "source": [
    "#### Using the agent"
   ]
  },
  {
   "cell_type": "markdown",
   "metadata": {},
   "source": [
    "### Combination of Runner and Worker\n",
    "\n",
    "Runner - Manages/Orchestrates the different tasks once the query is received, oversees the outputs of the worker, returns final response when ready\n",
    "\n",
    "Worker - Does the actual execution of the individual tasks using the available tools\n",
    "\n",
    "![components](/Users/chandrasekaransidha/personal/sandbox/img/agent_components.png)"
   ]
  },
  {
   "cell_type": "code",
   "execution_count": 10,
   "metadata": {},
   "outputs": [],
   "source": [
    "from llama_index.core.agent import FunctionCallingAgentWorker\n",
    "from llama_index.core.agent import AgentRunner\n",
    "\n",
    "agent_worker = FunctionCallingAgentWorker.from_tools(\n",
    "    [weather_fetch_tool], \n",
    "    llm=llm, \n",
    "    verbose=True\n",
    ")\n",
    "agent = AgentRunner(agent_worker)\n"
   ]
  },
  {
   "cell_type": "code",
   "execution_count": 11,
   "metadata": {},
   "outputs": [
    {
     "name": "stdout",
     "output_type": "stream",
     "text": [
      "Added user message to memory: Who is Connor McGregor?\n",
      "=== LLM Response ===\n",
      "Conor McGregor is a professional mixed martial artist and former UFC (Ultimate Fighting Championship) featherweight and lightweight champion. He is known for his charismatic personality, trash-talking, and fighting skills inside the octagon. McGregor is one of the most popular and successful fighters in the history of MMA (Mixed Martial Arts).\n"
     ]
    }
   ],
   "source": [
    "response = agent.query(\"Who is Connor McGregor?\")"
   ]
  },
  {
   "cell_type": "code",
   "execution_count": 12,
   "metadata": {},
   "outputs": [
    {
     "name": "stdout",
     "output_type": "stream",
     "text": [
      "Added user message to memory: What is the weather in Hayward right now?\n",
      "=== Calling Function ===\n",
      "Calling function: get_weather with args: {\"city_name\": \"Hayward\"}\n",
      "=== Function Output ===\n",
      "{'city': 'Hayward', 'temperature': 66.83, 'description': 'clear sky'}\n",
      "=== LLM Response ===\n",
      "The weather in Hayward right now is clear sky with a temperature of 66.83°F.\n"
     ]
    }
   ],
   "source": [
    "response = agent.query(\"What is the weather in Hayward right now?\")"
   ]
  },
  {
   "cell_type": "markdown",
   "metadata": {},
   "source": [
    "### 2. Auto Retrieval: To perform metadata filtering while retrieving data (RAG) "
   ]
  },
  {
   "cell_type": "code",
   "execution_count": null,
   "metadata": {},
   "outputs": [],
   "source": []
  },
  {
   "cell_type": "code",
   "execution_count": 9,
   "metadata": {},
   "outputs": [
    {
     "name": "stdout",
     "output_type": "stream",
     "text": [
      " Temperature (in kelvin unit) = 284.43\n",
      " atmospheric pressure (in hPa unit) = 1016\n",
      " humidity (in percentage) = 85\n",
      " description = clear sky\n"
     ]
    }
   ],
   "source": [
    "# import required modules\n",
    "import requests, json\n",
    " \n",
    "# Enter your API key here\n",
    "api_key = '41640c91aff77e824e7f7a11f984c49a'\n",
    " \n",
    "# base_url variable to store url\n",
    "base_url = \"http://api.openweathermap.org/data/2.5/weather?\"\n",
    " \n",
    "# Give city name\n",
    "city_name = 'Hayward'\n",
    " \n",
    "# complete_url variable to store\n",
    "# complete url address\n",
    "complete_url = base_url + \"appid=\" + api_key + \"&q=\" + city_name\n",
    " \n",
    "# get method of requests module\n",
    "# return response object\n",
    "response = requests.get(complete_url)\n",
    " \n",
    "# json method of response object \n",
    "# convert json format data into\n",
    "# python format data\n",
    "x = response.json()\n",
    " \n",
    "# Now x contains list of nested dictionaries\n",
    "# Check the value of \"cod\" key is equal to\n",
    "# \"404\", means city is found otherwise,\n",
    "# city is not found\n",
    "if x[\"cod\"] != \"404\":\n",
    " \n",
    "    # store the value of \"main\"\n",
    "    # key in variable y\n",
    "    y = x[\"main\"]\n",
    " \n",
    "    # store the value corresponding\n",
    "    # to the \"temp\" key of y\n",
    "    current_temperature = y[\"temp\"]\n",
    " \n",
    "    # store the value corresponding\n",
    "    # to the \"pressure\" key of y\n",
    "    current_pressure = y[\"pressure\"]\n",
    " \n",
    "    # store the value corresponding\n",
    "    # to the \"humidity\" key of y\n",
    "    current_humidity = y[\"humidity\"]\n",
    " \n",
    "    # store the value of \"weather\"\n",
    "    # key in variable z\n",
    "    z = x[\"weather\"]\n",
    " \n",
    "    # store the value corresponding \n",
    "    # to the \"description\" key at \n",
    "    # the 0th index of z\n",
    "    weather_description = z[0][\"description\"]\n",
    " \n",
    "    # print following values\n",
    "    print(\" Temperature (in kelvin unit) = \" +\n",
    "                    str(current_temperature) +\n",
    "          \"\\n atmospheric pressure (in hPa unit) = \" +\n",
    "                    str(current_pressure) +\n",
    "          \"\\n humidity (in percentage) = \" +\n",
    "                    str(current_humidity) +\n",
    "          \"\\n description = \" +\n",
    "                    str(weather_description))\n",
    " \n",
    "else:\n",
    "    print(\" City Not Found \")"
   ]
  }
 ],
 "metadata": {
  "kernelspec": {
   "display_name": "Python 3.11.5 ('base')",
   "language": "python",
   "name": "python3"
  },
  "language_info": {
   "codemirror_mode": {
    "name": "ipython",
    "version": 3
   },
   "file_extension": ".py",
   "mimetype": "text/x-python",
   "name": "python",
   "nbconvert_exporter": "python",
   "pygments_lexer": "ipython3",
   "version": "3.11.5"
  },
  "orig_nbformat": 4,
  "vscode": {
   "interpreter": {
    "hash": "ac9d25aa1809562b78450ffbaf528b6067bd8b0570a3ba43fb0c8aa79f9941b4"
   }
  }
 },
 "nbformat": 4,
 "nbformat_minor": 2
}
