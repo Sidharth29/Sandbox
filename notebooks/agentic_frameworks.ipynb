{
 "cells": [
  {
   "cell_type": "markdown",
   "metadata": {},
   "source": [
    "# Agentic Framework in Llama Index"
   ]
  },
  {
   "cell_type": "markdown",
   "metadata": {},
   "source": [
    "## Tool Use\n",
    "\n",
    "The FunctionTool module can be used here to convert any function into a tool that the agent could call if it feels the necessity\n",
    "\n"
   ]
  },
  {
   "cell_type": "code",
   "execution_count": 1,
   "metadata": {},
   "outputs": [
    {
     "data": {
      "text/plain": [
       "True"
      ]
     },
     "execution_count": 1,
     "metadata": {},
     "output_type": "execute_result"
    }
   ],
   "source": [
    "import requests\n",
    "from llama_index.core.tools import FunctionTool\n",
    "from llama_index.core.agent import ReActAgent\n",
    "\n",
    "from llama_index.llms.openai import OpenAI\n",
    "import nest_asyncio\n",
    "from llama_index.agent.introspective import IntrospectiveAgentWorker\n",
    "from llama_index.agent.introspective import (\n",
    "    ToolInteractiveReflectionAgentWorker,\n",
    ")\n",
    "import os\n",
    "\n",
    "import dotenv\n",
    "\n",
    "\n",
    "from llama_index.agent.openai import OpenAIAgentWorker\n",
    "from llama_index.core.agent import FunctionCallingAgentWorker\n",
    "from llama_index.core.llms import ChatMessage, MessageRole\n",
    "from llama_index.core import ChatPromptTemplate\n",
    "\n",
    "nest_asyncio.apply()\n",
    "\n",
    "dotenv.load_dotenv()"
   ]
  },
  {
   "cell_type": "code",
   "execution_count": 2,
   "metadata": {},
   "outputs": [],
   "source": [
    "# Load API Keys\n",
    "API_KEY = os.getenv('OPENWEATHER_API_KEY')\n",
    "OPENAI_API_KEY = os.getenv(\"OPENAI_API_KEY\")"
   ]
  },
  {
   "cell_type": "markdown",
   "metadata": {},
   "source": [
    "### 1. To access external API data "
   ]
  },
  {
   "cell_type": "code",
   "execution_count": 8,
   "metadata": {},
   "outputs": [],
   "source": [
    "def get_weather(city_name, units='imperial'):\n",
    "    \"\"\"\n",
    "    Function that taken in a city name and units and returns the temperature and description of weather\n",
    "\n",
    "    Args:\n",
    "    city_name: The name of the city (ex: Los Angeles)\n",
    "    units: The measurement units for tempreature (Options: imperial - fahreinheit, metric - celsius), Default: fahrenheit (imperial)\n",
    "\n",
    "    Return:\n",
    "    city: Name of the City\n",
    "    temperature: the temperature in the provided measurement units\n",
    "    description: the short description of the weather\n",
    "    \"\"\"\n",
    "    base_url = \"http://api.openweathermap.org/data/2.5/weather?\"\n",
    "    complete_url = base_url + \"appid=\" + API_KEY + \"&q=\" + city_name + \"&units=\" + units\n",
    "    \n",
    "    response = requests.get(complete_url)\n",
    "    \n",
    "    if response.status_code == 200:\n",
    "        weather_data = response.json()\n",
    "        return {\n",
    "            'city': city_name,\n",
    "            'temperature': weather_data['main']['temp'],\n",
    "            'description': weather_data['weather'][0]['description']\n",
    "        }\n",
    "    else:\n",
    "        return {'error': 'Failed to retrieve weather data', 'status_code': response.status_code}"
   ]
  },
  {
   "cell_type": "code",
   "execution_count": 9,
   "metadata": {},
   "outputs": [],
   "source": [
    "# Declare tool\n",
    "weather_fetch_tool = FunctionTool.from_defaults(fn=get_weather)"
   ]
  },
  {
   "cell_type": "markdown",
   "metadata": {},
   "source": [
    "#### Instance of simple function call using the OpenAI LLM"
   ]
  },
  {
   "cell_type": "code",
   "execution_count": 10,
   "metadata": {},
   "outputs": [
    {
     "name": "stdout",
     "output_type": "stream",
     "text": [
      "=== Calling Function ===\n",
      "Calling function: get_weather with args: {\"city_name\": \"San Jose\"}\n",
      "=== Function Output ===\n",
      "{'city': 'San Jose', 'temperature': 67.57, 'description': 'clear sky'}\n",
      "{'city': 'San Jose', 'temperature': 67.57, 'description': 'clear sky'}\n"
     ]
    }
   ],
   "source": [
    "# Use query engine with the tool\n",
    "\n",
    "llm = OpenAI(model=\"gpt-3.5-turbo\", api_key=OPENAI_API_KEY)\n",
    "response = llm.predict_and_call(\n",
    "    [weather_fetch_tool], \n",
    "    \"How is the weather in San Jose right now?\", \n",
    "    verbose=True\n",
    ")\n",
    "print(str(response))"
   ]
  },
  {
   "cell_type": "markdown",
   "metadata": {},
   "source": [
    "#### Using the agent"
   ]
  },
  {
   "cell_type": "markdown",
   "metadata": {},
   "source": [
    "### Combination of Runner and Worker\n",
    "\n",
    "Runner - Manages/Orchestrates the different tasks once the query is received, oversees the outputs of the worker, returns final response when ready\n",
    "\n",
    "Worker - Does the actual execution of the individual tasks using the available tools\n",
    "\n",
    "![components](/Users/chandrasekaransidha/personal/sandbox/img/agent_components.png)"
   ]
  },
  {
   "cell_type": "code",
   "execution_count": 11,
   "metadata": {},
   "outputs": [],
   "source": [
    "from llama_index.core.agent import FunctionCallingAgentWorker\n",
    "from llama_index.core.agent import AgentRunner\n",
    "\n",
    "agent_worker = FunctionCallingAgentWorker.from_tools(\n",
    "    [weather_fetch_tool], \n",
    "    llm=llm, \n",
    "    verbose=True\n",
    ")\n",
    "agent = AgentRunner(agent_worker)\n"
   ]
  },
  {
   "cell_type": "code",
   "execution_count": 12,
   "metadata": {},
   "outputs": [
    {
     "name": "stdout",
     "output_type": "stream",
     "text": [
      "Added user message to memory: Who is Connor McGregor?\n",
      "=== LLM Response ===\n",
      "Conor McGregor is a professional mixed martial artist and former UFC (Ultimate Fighting Championship) featherweight and lightweight champion. He is known for his charismatic personality, trash-talking, and fighting skills inside the octagon. McGregor is one of the most popular and successful fighters in the history of MMA (Mixed Martial Arts).\n"
     ]
    }
   ],
   "source": [
    "response = agent.query(\"Who is Connor McGregor?\")"
   ]
  },
  {
   "cell_type": "code",
   "execution_count": 13,
   "metadata": {},
   "outputs": [
    {
     "name": "stdout",
     "output_type": "stream",
     "text": [
      "Added user message to memory: Is it a good day to go running outside, I'm in Hayward?\n",
      "=== Calling Function ===\n",
      "Calling function: get_weather with args: {\"city_name\": \"Hayward\"}\n",
      "=== Function Output ===\n",
      "{'city': 'Hayward', 'temperature': 61.36, 'description': 'scattered clouds'}\n",
      "=== LLM Response ===\n",
      "The current temperature in Hayward is 61.36°F with scattered clouds. It seems like a good day to go running outside!\n"
     ]
    }
   ],
   "source": [
    "response = agent.query(\"Is it a good day to go running outside, I'm in Hayward?\")"
   ]
  },
  {
   "cell_type": "code",
   "execution_count": 14,
   "metadata": {},
   "outputs": [
    {
     "name": "stdout",
     "output_type": "stream",
     "text": [
      "\u001b[1;3;38;5;200mThought: The current language of the user is: English. I need to use a tool to help me answer the question.\n",
      "Action: get_weather\n",
      "Action Input: {'city_name': 'Hayward', 'units': 'imperial'}\n",
      "\u001b[0m\u001b[1;3;34mObservation: {'city': 'Hayward', 'temperature': 61.36, 'description': 'scattered clouds'}\n",
      "\u001b[0m\u001b[1;3;38;5;200mThought: I can answer without using any more tools. I'll use the user's language to answer\n",
      "Answer: The current temperature in Hayward is 61.36°F with scattered clouds. It seems like a decent day to go running outside.\n",
      "\u001b[0m"
     ]
    }
   ],
   "source": [
    "# Using the ReAct Agent\n",
    "\n",
    "agent = ReActAgent.from_tools([weather_fetch_tool], llm=llm, verbose=True)\n",
    "\n",
    "\n",
    "response = agent.chat(\"Is it a good day to go running outside, I'm in Hayward?\")"
   ]
  },
  {
   "cell_type": "markdown",
   "metadata": {},
   "source": [
    "### 2. Auto Retrieval: To perform metadata filtering while retrieving data (RAG) "
   ]
  },
  {
   "cell_type": "markdown",
   "metadata": {},
   "source": [
    "## Autogen"
   ]
  },
  {
   "cell_type": "code",
   "execution_count": 35,
   "metadata": {},
   "outputs": [
    {
     "name": "stdout",
     "output_type": "stream",
     "text": [
      "Collecting pyautogen\n",
      "  Downloading pyautogen-0.2.28-py3-none-any.whl.metadata (25 kB)\n",
      "Collecting diskcache (from pyautogen)\n",
      "  Downloading diskcache-5.6.3-py3-none-any.whl.metadata (20 kB)\n",
      "Collecting docker (from pyautogen)\n",
      "  Downloading docker-7.1.0-py3-none-any.whl.metadata (3.8 kB)\n",
      "Collecting flaml (from pyautogen)\n",
      "  Downloading FLAML-2.1.2-py3-none-any.whl.metadata (15 kB)\n",
      "Requirement already satisfied: numpy<2,>=1.17.0 in /Users/chandrasekaransidha/miniconda3/lib/python3.11/site-packages (from pyautogen) (1.26.4)\n",
      "Requirement already satisfied: openai>=1.3 in /Users/chandrasekaransidha/miniconda3/lib/python3.11/site-packages (from pyautogen) (1.30.3)\n",
      "Requirement already satisfied: packaging in /Users/chandrasekaransidha/miniconda3/lib/python3.11/site-packages (from pyautogen) (23.2)\n",
      "Requirement already satisfied: pydantic!=2.6.0,<3,>=1.10 in /Users/chandrasekaransidha/miniconda3/lib/python3.11/site-packages (from pyautogen) (2.4.2)\n",
      "Requirement already satisfied: python-dotenv in /Users/chandrasekaransidha/miniconda3/lib/python3.11/site-packages (from pyautogen) (1.0.1)\n",
      "Collecting termcolor (from pyautogen)\n",
      "  Downloading termcolor-2.4.0-py3-none-any.whl.metadata (6.1 kB)\n",
      "Requirement already satisfied: tiktoken in /Users/chandrasekaransidha/miniconda3/lib/python3.11/site-packages (from pyautogen) (0.5.1)\n",
      "Requirement already satisfied: anyio<5,>=3.5.0 in /Users/chandrasekaransidha/miniconda3/lib/python3.11/site-packages (from openai>=1.3->pyautogen) (3.7.1)\n",
      "Requirement already satisfied: distro<2,>=1.7.0 in /Users/chandrasekaransidha/miniconda3/lib/python3.11/site-packages (from openai>=1.3->pyautogen) (1.9.0)\n",
      "Requirement already satisfied: httpx<1,>=0.23.0 in /Users/chandrasekaransidha/miniconda3/lib/python3.11/site-packages (from openai>=1.3->pyautogen) (0.25.0)\n",
      "Requirement already satisfied: sniffio in /Users/chandrasekaransidha/miniconda3/lib/python3.11/site-packages (from openai>=1.3->pyautogen) (1.3.0)\n",
      "Requirement already satisfied: tqdm>4 in /Users/chandrasekaransidha/miniconda3/lib/python3.11/site-packages (from openai>=1.3->pyautogen) (4.66.2)\n",
      "Requirement already satisfied: typing-extensions<5,>=4.7 in /Users/chandrasekaransidha/miniconda3/lib/python3.11/site-packages (from openai>=1.3->pyautogen) (4.10.0)\n",
      "Requirement already satisfied: annotated-types>=0.4.0 in /Users/chandrasekaransidha/miniconda3/lib/python3.11/site-packages (from pydantic!=2.6.0,<3,>=1.10->pyautogen) (0.5.0)\n",
      "Requirement already satisfied: pydantic-core==2.10.1 in /Users/chandrasekaransidha/miniconda3/lib/python3.11/site-packages (from pydantic!=2.6.0,<3,>=1.10->pyautogen) (2.10.1)\n",
      "Requirement already satisfied: requests>=2.26.0 in /Users/chandrasekaransidha/miniconda3/lib/python3.11/site-packages (from docker->pyautogen) (2.31.0)\n",
      "Requirement already satisfied: urllib3>=1.26.0 in /Users/chandrasekaransidha/miniconda3/lib/python3.11/site-packages (from docker->pyautogen) (1.26.18)\n",
      "Requirement already satisfied: regex>=2022.1.18 in /Users/chandrasekaransidha/miniconda3/lib/python3.11/site-packages (from tiktoken->pyautogen) (2023.8.8)\n",
      "Requirement already satisfied: idna>=2.8 in /Users/chandrasekaransidha/miniconda3/lib/python3.11/site-packages (from anyio<5,>=3.5.0->openai>=1.3->pyautogen) (3.4)\n",
      "Requirement already satisfied: certifi in /Users/chandrasekaransidha/miniconda3/lib/python3.11/site-packages (from httpx<1,>=0.23.0->openai>=1.3->pyautogen) (2024.2.2)\n",
      "Requirement already satisfied: httpcore<0.19.0,>=0.18.0 in /Users/chandrasekaransidha/miniconda3/lib/python3.11/site-packages (from httpx<1,>=0.23.0->openai>=1.3->pyautogen) (0.18.0)\n",
      "Requirement already satisfied: charset-normalizer<4,>=2 in /Users/chandrasekaransidha/miniconda3/lib/python3.11/site-packages (from requests>=2.26.0->docker->pyautogen) (2.0.4)\n",
      "Requirement already satisfied: h11<0.15,>=0.13 in /Users/chandrasekaransidha/miniconda3/lib/python3.11/site-packages (from httpcore<0.19.0,>=0.18.0->httpx<1,>=0.23.0->openai>=1.3->pyautogen) (0.14.0)\n",
      "Downloading pyautogen-0.2.28-py3-none-any.whl (284 kB)\n",
      "\u001b[2K   \u001b[90m━━━━━━━━━━━━━━━━━━━━━━━━━━━━━━━━━━━━━━━━\u001b[0m \u001b[32m284.6/284.6 kB\u001b[0m \u001b[31m5.9 MB/s\u001b[0m eta \u001b[36m0:00:00\u001b[0ma \u001b[36m0:00:01\u001b[0m\n",
      "\u001b[?25hDownloading diskcache-5.6.3-py3-none-any.whl (45 kB)\n",
      "\u001b[2K   \u001b[90m━━━━━━━━━━━━━━━━━━━━━━━━━━━━━━━━━━━━━━━━\u001b[0m \u001b[32m45.5/45.5 kB\u001b[0m \u001b[31m2.6 MB/s\u001b[0m eta \u001b[36m0:00:00\u001b[0m\n",
      "\u001b[?25hDownloading docker-7.1.0-py3-none-any.whl (147 kB)\n",
      "\u001b[2K   \u001b[90m━━━━━━━━━━━━━━━━━━━━━━━━━━━━━━━━━━━━━━━━\u001b[0m \u001b[32m147.8/147.8 kB\u001b[0m \u001b[31m14.4 MB/s\u001b[0m eta \u001b[36m0:00:00\u001b[0m\n",
      "\u001b[?25hDownloading FLAML-2.1.2-py3-none-any.whl (296 kB)\n",
      "\u001b[2K   \u001b[90m━━━━━━━━━━━━━━━━━━━━━━━━━━━━━━━━━━━━━━━━\u001b[0m \u001b[32m296.7/296.7 kB\u001b[0m \u001b[31m19.5 MB/s\u001b[0m eta \u001b[36m0:00:00\u001b[0m\n",
      "\u001b[?25hDownloading termcolor-2.4.0-py3-none-any.whl (7.7 kB)\n",
      "Installing collected packages: termcolor, flaml, diskcache, docker, pyautogen\n",
      "Successfully installed diskcache-5.6.3 docker-7.1.0 flaml-2.1.2 pyautogen-0.2.28 termcolor-2.4.0\n"
     ]
    }
   ],
   "source": [
    "!pip install pyautogen"
   ]
  },
  {
   "cell_type": "code",
   "execution_count": 15,
   "metadata": {},
   "outputs": [],
   "source": [
    "import autogen"
   ]
  },
  {
   "cell_type": "code",
   "execution_count": 20,
   "metadata": {},
   "outputs": [],
   "source": [
    "llm_config = {\"model\": \"gpt-4o\"}"
   ]
  },
  {
   "cell_type": "code",
   "execution_count": 17,
   "metadata": {},
   "outputs": [],
   "source": [
    "task = '''\n",
    "        Write a concise but engaging blogpost about\n",
    "       the cultural effect of Garfield, the fictional character created by Jim Davis. \n",
    "       Make sure the blogpost is within 100 words.\n",
    "       '''"
   ]
  },
  {
   "cell_type": "code",
   "execution_count": 21,
   "metadata": {},
   "outputs": [],
   "source": [
    "writer = autogen.AssistantAgent(\n",
    "    name=\"Writer\",\n",
    "    system_message=\"You are a writer. You write engaging and concise \" \n",
    "        \"blogpost (with title) on given topics. You must polish your \"\n",
    "        \"writing based on the feedback you receive and give a refined \"\n",
    "        \"version. Only return your final work without additional comments.\",\n",
    "    llm_config=llm_config,\n",
    ")"
   ]
  },
  {
   "cell_type": "code",
   "execution_count": 22,
   "metadata": {},
   "outputs": [
    {
     "name": "stdout",
     "output_type": "stream",
     "text": [
      "**The Cultural Impact of Garfield: A Lasagna-Loving Icon**\n",
      "\n",
      "Since his debut in 1978, Jim Davis's Garfield has transcended his comic-strip origins to become a global phenomenon. This lasagna-loving, Monday-hating cat has left an indelible mark on pop culture, inspiring TV shows, merchandise, and even philosophical musings on apathy and indulgence. Garfield's relatable disdain for Mondays and love for comfort has resonated across generations, making him a timeless symbol of modern life's everyday struggles. Beyond humor, Garfield offers a mirror to society's quirks, proving that even a simple comic strip can spark widespread cultural dialogues.\n"
     ]
    }
   ],
   "source": [
    "reply = writer.generate_reply(\n",
    "        messages=[{\"content\": task, \"role\": \"user\"}]\n",
    "        )\n",
    "\n",
    "print(reply)"
   ]
  },
  {
   "cell_type": "markdown",
   "metadata": {},
   "source": [
    "### Reflection using Autogen"
   ]
  },
  {
   "cell_type": "code",
   "execution_count": 23,
   "metadata": {},
   "outputs": [],
   "source": [
    "critic = autogen.AssistantAgent(\n",
    "    name=\"Critic\",\n",
    "    is_termination_msg=lambda x: x.get(\"content\", \"\").find(\"TERMINATE\") >= 0,\n",
    "    llm_config=llm_config,\n",
    "    system_message=\"You are a critic. You review the work of \"\n",
    "                \"the writer and provide constructive \"\n",
    "                \"feedback to help improve the quality of the content.\",\n",
    ")"
   ]
  },
  {
   "cell_type": "code",
   "execution_count": 24,
   "metadata": {},
   "outputs": [
    {
     "name": "stdout",
     "output_type": "stream",
     "text": [
      "\u001b[33mCritic\u001b[0m (to Writer):\n",
      "\n",
      "\n",
      "        Write a concise but engaging blogpost about\n",
      "       the cultural effect of Garfield, the fictional character created by Jim Davis. \n",
      "       Make sure the blogpost is within 100 words.\n",
      "       \n",
      "\n",
      "--------------------------------------------------------------------------------\n",
      "\u001b[33mWriter\u001b[0m (to Critic):\n",
      "\n",
      "**The Cultural Impact of Garfield: A Lasagna-Loving Icon**\n",
      "\n",
      "Since his debut in 1978, Jim Davis's Garfield has transcended his comic-strip origins to become a global phenomenon. This lasagna-loving, Monday-hating cat has left an indelible mark on pop culture, inspiring TV shows, merchandise, and even philosophical musings on apathy and indulgence. Garfield's relatable disdain for Mondays and love for comfort has resonated across generations, making him a timeless symbol of modern life's everyday struggles. Beyond humor, Garfield offers a mirror to society's quirks, proving that even a simple comic strip can spark widespread cultural dialogues.\n",
      "\n",
      "--------------------------------------------------------------------------------\n",
      "\u001b[33mCritic\u001b[0m (to Writer):\n",
      "\n",
      "Your blog post captures the essence of Garfield’s impact well and is engaging. Here are a few suggestions to enhance clarity and depth:\n",
      "\n",
      "---\n",
      "\n",
      "**The Cultural Impact of Garfield: A Lasagna-Loving Icon**\n",
      "\n",
      "Since his debut in 1978, Jim Davis's Garfield has transcended his comic-strip origins to become a global phenomenon. This lasagna-loving, Monday-hating cat has left an indelible mark on pop culture, inspiring TV shows, merchandise, and even philosophical musings on apathy and indulgence. Garfield's relatable disdain for Mondays and affection for comfort food have resonated across generations, making him a timeless symbol of modern life's everyday struggles. Beyond humor, Garfield offers a mirror to society's quirks, proving that even a seemingly simple comic strip can spark widespread cultural dialogues.\n",
      "\n",
      "---\n",
      "\n",
      "### Feedback:\n",
      "\n",
      "1. **Specificity in Description**:\n",
      "   - Instead of \"love for comfort,\" \"affection for comfort food\" is more specific and ties directly to Garfield.\n",
      "\n",
      "2. **Smooth Transitions**:\n",
      "   - The transition from how Garfield impacts humor to societal reflection is well done but can be even clearer by eliminating redundancy, such as \"simple comic strip.\"\n",
      "\n",
      "3. **Conciseness**:\n",
      "   - The text is within the word limit and concise, which is perfect for a quick read.\n",
      "\n",
      "4. **Overall Feel**:\n",
      "   - The tone is appropriately engaging and informative, making it accessible and enjoyable for readers.\n",
      "\n",
      "Great job overall!\n",
      "\n",
      "--------------------------------------------------------------------------------\n",
      "\u001b[33mWriter\u001b[0m (to Critic):\n",
      "\n",
      "**The Cultural Impact of Garfield: A Lasagna-Loving Icon**\n",
      "\n",
      "Since his debut in 1978, Jim Davis's Garfield has transcended his comic-strip origins to become a global phenomenon. This lasagna-loving, Monday-hating cat has left an indelible mark on pop culture, inspiring TV shows, merchandise, and even philosophical musings on apathy and indulgence. Garfield's relatable disdain for Mondays and affection for comfort food have resonated across generations, making him a timeless symbol of modern life's everyday struggles. Beyond humor, Garfield offers a mirror to society's quirks, proving that even a comic strip can spark widespread cultural dialogues.\n",
      "\n",
      "--------------------------------------------------------------------------------\n"
     ]
    }
   ],
   "source": [
    "res = critic.initiate_chat(\n",
    "    recipient=writer,\n",
    "    message=task,\n",
    "    max_turns=2,\n",
    "    summary_method=\"last_msg\"\n",
    ")"
   ]
  },
  {
   "cell_type": "markdown",
   "metadata": {},
   "source": [
    "### Nested Chat for getting multiple perspectives"
   ]
  },
  {
   "cell_type": "code",
   "execution_count": 26,
   "metadata": {},
   "outputs": [],
   "source": [
    "SEO_reviewer = autogen.AssistantAgent(\n",
    "    name=\"SEO Reviewer\",\n",
    "    llm_config=llm_config,\n",
    "    system_message=\"You are an SEO reviewer, known for \"\n",
    "        \"your ability to optimize content for search engines, \"\n",
    "        \"ensuring that it ranks well and attracts organic traffic. \" \n",
    "        \"Make sure your suggestion is concise (within 3 bullet points), \"\n",
    "        \"concrete and to the point. \"\n",
    "        \"Begin the review by stating your role.\",\n",
    ")"
   ]
  },
  {
   "cell_type": "code",
   "execution_count": 25,
   "metadata": {},
   "outputs": [],
   "source": [
    "Format_reviewer = autogen.AssistantAgent(\n",
    "    name=\"Format Reviewer\",\n",
    "    llm_config=llm_config,\n",
    "    system_message=\"You are a Text Format reviewer, known for \"\n",
    "        \"your ability to make a block of text appealing when viewed as markdown, \"\n",
    "        \"you ensure that the text is easy and pleasant to read for a viewer,\" \n",
    "        \"broken down into digestible paragraphs and headings and punctuations represented\"\n",
    "        \"in a way that renders accurately in a markdown format\"\n",
    "        \"Make sure your suggestion is concise (within 3 bullet points), \"\n",
    "        \"concrete and to the point. \"\n",
    "        \"Begin the review by stating your role. \",\n",
    ")"
   ]
  },
  {
   "cell_type": "code",
   "execution_count": 32,
   "metadata": {},
   "outputs": [],
   "source": [
    "Casualness_reviewer = autogen.AssistantAgent(\n",
    "    name=\"Casualness Reviewer\",\n",
    "    llm_config=llm_config,\n",
    "    system_message=\"You are a Text Casualness reviewer, known for \"\n",
    "        \"your ability to review a piece of text and identify phrases that seem too boring and complex\"\n",
    "        \"and propose ways to make them more catchy and relatable\"\n",
    "        \"to make the piece engaging at the same time retaining the quality of the message\"\n",
    "        \"Make sure your suggestion is concise (within 3 bullet points), \"\n",
    "        \"concrete and to the point. \"\n",
    "        \"Begin the review by stating your role. \",\n",
    ")"
   ]
  },
  {
   "cell_type": "code",
   "execution_count": 33,
   "metadata": {},
   "outputs": [],
   "source": [
    "meta_reviewer = autogen.AssistantAgent(\n",
    "    name=\"Meta Reviewer\",\n",
    "    llm_config=llm_config,\n",
    "    system_message=\"You are a meta reviewer, you aggragate and review \"\n",
    "    \"the work of other reviewers and give a final suggestion on the content.\",\n",
    ")"
   ]
  },
  {
   "cell_type": "code",
   "execution_count": 34,
   "metadata": {},
   "outputs": [],
   "source": [
    "def reflection_message(recipient, messages, sender, config):\n",
    "    return f'''Review the following content. \n",
    "            \\n\\n {recipient.chat_messages_for_summary(sender)[-1]['content']}'''\n",
    "\n",
    "review_chats = [\n",
    "    {\n",
    "     \"recipient\": SEO_reviewer, \n",
    "     \"message\": reflection_message, # The input message is an llm summarization of the task message\n",
    "     \"summary_method\": \"reflection_with_llm\", # The output provided is also refined by an llm\n",
    "     \"summary_args\": {\"summary_prompt\" : \n",
    "        \"Return review into as JSON object only:\"\n",
    "        \"{'Reviewer': '', 'Review': ''}. Here Reviewer should be your role\",}, # Mentioned only once, the other reviewers follow suit\n",
    "     \"max_turns\": 1},\n",
    "    {\n",
    "    \"recipient\": Format_reviewer, \"message\": reflection_message, \n",
    "     \"summary_method\": \"reflection_with_llm\",\n",
    "     \"summary_args\": {\"summary_prompt\" : \n",
    "        \"Return review into as JSON object only:\"\n",
    "        \"{'Reviewer': '', 'Review': ''}.\",},\n",
    "     \"max_turns\": 1},\n",
    "    {\"recipient\": Casualness_reviewer, \"message\": reflection_message, \n",
    "     \"summary_method\": \"reflection_with_llm\",\n",
    "     \"summary_args\": {\"summary_prompt\" : \n",
    "        \"Return review into as JSON object only:\"\n",
    "        \"{'reviewer': '', 'review': ''}\",},\n",
    "     \"max_turns\": 1},\n",
    "     {\"recipient\": meta_reviewer, \n",
    "      \"message\": \"Aggregrate feedback from all reviewers and give final suggestions on the writing.\", \n",
    "     \"max_turns\": 1},\n",
    "]\n"
   ]
  },
  {
   "cell_type": "code",
   "execution_count": 35,
   "metadata": {},
   "outputs": [],
   "source": [
    "critic.register_nested_chats(\n",
    "    review_chats,\n",
    "    trigger=writer,\n",
    ")"
   ]
  },
  {
   "cell_type": "code",
   "execution_count": 36,
   "metadata": {},
   "outputs": [
    {
     "name": "stdout",
     "output_type": "stream",
     "text": [
      "\u001b[33mCritic\u001b[0m (to Writer):\n",
      "\n",
      "\n",
      "        Write a concise but engaging blogpost about\n",
      "       the cultural effect of Garfield, the fictional character created by Jim Davis. \n",
      "       Make sure the blogpost is within 100 words.\n",
      "       \n",
      "\n",
      "--------------------------------------------------------------------------------\n",
      "\u001b[33mWriter\u001b[0m (to Critic):\n",
      "\n",
      "**The Cultural Impact of Garfield: A Lasagna-Loving Icon**\n",
      "\n",
      "Since his debut in 1978, Jim Davis's Garfield has transcended his comic-strip origins to become a global phenomenon. This lasagna-loving, Monday-hating cat has left an indelible mark on pop culture, inspiring TV shows, merchandise, and even philosophical musings on apathy and indulgence. Garfield's relatable disdain for Mondays and love for comfort has resonated across generations, making him a timeless symbol of modern life's everyday struggles. Beyond humor, Garfield offers a mirror to society's quirks, proving that even a simple comic strip can spark widespread cultural dialogues.\n",
      "\n",
      "--------------------------------------------------------------------------------\n",
      "\u001b[34m\n",
      "********************************************************************************\u001b[0m\n",
      "\u001b[34mStarting a new chat....\u001b[0m\n",
      "\u001b[34m\n",
      "********************************************************************************\u001b[0m\n",
      "\u001b[33mCritic\u001b[0m (to SEO Reviewer):\n",
      "\n",
      "Review the following content. \n",
      "            \n",
      "\n",
      " **The Cultural Impact of Garfield: A Lasagna-Loving Icon**\n",
      "\n",
      "Since his debut in 1978, Jim Davis's Garfield has transcended his comic-strip origins to become a global phenomenon. This lasagna-loving, Monday-hating cat has left an indelible mark on pop culture, inspiring TV shows, merchandise, and even philosophical musings on apathy and indulgence. Garfield's relatable disdain for Mondays and love for comfort has resonated across generations, making him a timeless symbol of modern life's everyday struggles. Beyond humor, Garfield offers a mirror to society's quirks, proving that even a simple comic strip can spark widespread cultural dialogues.\n",
      "\n",
      "--------------------------------------------------------------------------------\n",
      "\u001b[33mSEO Reviewer\u001b[0m (to Critic):\n",
      "\n",
      "As an SEO reviewer, here are my suggestions to optimize the content for better search engine ranking:\n",
      "\n",
      "1. **Incorporate Keywords Strategically:** Include relevant keywords such as “Garfield comic,” “Jim Davis,” “Garfield TV shows,” “Garfield merchandise,” and “Garfield cultural impact.” For example, “Since his debut in 1978 in the Garfield comic by Jim Davis, this lasagna-loving, Monday-hating cat…”.\n",
      "\n",
      "2. **Enhance Title with Keywords:** Modify the title to make it keyword-rich for better searchability. Consider something like “Garfield’s Cultural Impact: How Jim Davis’s Comic Strip Icon Shaped Pop Culture.”\n",
      "\n",
      "3. **Add Meta Description:** Create a concise meta description (around 150-160 characters) that includes target keywords, such as “Discover how Jim Davis’s Garfield comic strip icon influenced pop culture from TV shows to merchandise.”\n",
      "\n",
      "--------------------------------------------------------------------------------\n",
      "\u001b[34m\n",
      "********************************************************************************\u001b[0m\n",
      "\u001b[34mStarting a new chat....\u001b[0m\n",
      "\u001b[34m\n",
      "********************************************************************************\u001b[0m\n",
      "\u001b[33mCritic\u001b[0m (to Format Reviewer):\n",
      "\n",
      "Review the following content. \n",
      "            \n",
      "\n",
      " **The Cultural Impact of Garfield: A Lasagna-Loving Icon**\n",
      "\n",
      "Since his debut in 1978, Jim Davis's Garfield has transcended his comic-strip origins to become a global phenomenon. This lasagna-loving, Monday-hating cat has left an indelible mark on pop culture, inspiring TV shows, merchandise, and even philosophical musings on apathy and indulgence. Garfield's relatable disdain for Mondays and love for comfort has resonated across generations, making him a timeless symbol of modern life's everyday struggles. Beyond humor, Garfield offers a mirror to society's quirks, proving that even a simple comic strip can spark widespread cultural dialogues.\n",
      "Context: \n",
      "```json\n",
      "{\n",
      "  \"Reviewer\": \"SEO Reviewer\",\n",
      "  \"Review\": {\n",
      "    \"Incorporate Keywords Strategically\": \"Include relevant keywords such as 'Garfield comic,' 'Jim Davis,' 'Garfield TV shows,' 'Garfield merchandise,' and 'Garfield cultural impact.' For example, 'Since his debut in 1978 in the Garfield comic by Jim Davis, this lasagna-loving, Monday-hating cat...'\",\n",
      "    \"Enhance Title with Keywords\": \"Modify the title to make it keyword-rich for better searchability. Consider something like 'Garfield’s Cultural Impact: How Jim Davis’s Comic Strip Icon Shaped Pop Culture.'\",\n",
      "    \"Add Meta Description\": \"Create a concise meta description (around 150-160 characters) that includes target keywords, such as 'Discover how Jim Davis’s Garfield comic strip icon influenced pop culture from TV shows to merchandise.'\"\n",
      "  }\n",
      "}\n",
      "```\n",
      "\n",
      "--------------------------------------------------------------------------------\n",
      "\u001b[33mFormat Reviewer\u001b[0m (to Critic):\n",
      "\n",
      "### Text Format Reviewer\n",
      "\n",
      "**Suggestions**:\n",
      "\n",
      "1. **Refine the Content with Headings and Keywords**:\n",
      "   - Break down the content into smaller sections using headings.\n",
      "   - Introduce keywords seamlessly into the text for better SEO without disrupting the flow.\n",
      "\n",
      "2. **Enhance the Title for Better Searchability**:\n",
      "   - Modify the title to include specific keywords that improve search presence.\n",
      "   - Ensure the title remains engaging while incorporating the recommended keywords.\n",
      "\n",
      "3. **Add a Meta Description**:\n",
      "   - Create a concise meta description that includes key phrases, aiming for around 150-160 characters.\n",
      "\n",
      "### Refined Content\n",
      "\n",
      "**Garfield’s Cultural Impact: How Jim Davis’s Comic Strip Icon Shaped Pop Culture**\n",
      "\n",
      "#### Introduction\n",
      "Since his debut in the **Garfield comic** by **Jim Davis** in 1978, Garfield has transcended his comic-strip origins to become a global phenomenon. This lasagna-loving, Monday-hating cat has left an indelible mark on pop culture, inspiring **Garfield TV shows**, merchandise, and even philosophical musings on apathy and indulgence.\n",
      "\n",
      "#### Relatability and Timeless Appeal\n",
      "Garfield's relatable disdain for Mondays and love for comfort has resonated across generations, making him a timeless symbol of modern life's everyday struggles.\n",
      "\n",
      "#### Cultural Reflection\n",
      "Beyond humor, Garfield offers a mirror to society's quirks, proving that even a simple comic strip can spark widespread cultural dialogues.\n",
      "\n",
      "---\n",
      "\n",
      "**Meta Description**: \n",
      "Discover how Jim Davis’s Garfield comic strip icon influenced pop culture from TV shows to merchandise. Explore Garfield’s cultural impact today.\n",
      "\n",
      "--------------------------------------------------------------------------------\n",
      "\u001b[34m\n",
      "********************************************************************************\u001b[0m\n",
      "\u001b[34mStarting a new chat....\u001b[0m\n",
      "\u001b[34m\n",
      "********************************************************************************\u001b[0m\n",
      "\u001b[33mCritic\u001b[0m (to Casualness Reviewer):\n",
      "\n",
      "Review the following content. \n",
      "            \n",
      "\n",
      " **The Cultural Impact of Garfield: A Lasagna-Loving Icon**\n",
      "\n",
      "Since his debut in 1978, Jim Davis's Garfield has transcended his comic-strip origins to become a global phenomenon. This lasagna-loving, Monday-hating cat has left an indelible mark on pop culture, inspiring TV shows, merchandise, and even philosophical musings on apathy and indulgence. Garfield's relatable disdain for Mondays and love for comfort has resonated across generations, making him a timeless symbol of modern life's everyday struggles. Beyond humor, Garfield offers a mirror to society's quirks, proving that even a simple comic strip can spark widespread cultural dialogues.\n",
      "Context: \n",
      "```json\n",
      "{\n",
      "  \"Reviewer\": \"SEO Reviewer\",\n",
      "  \"Review\": {\n",
      "    \"Incorporate Keywords Strategically\": \"Include relevant keywords such as 'Garfield comic,' 'Jim Davis,' 'Garfield TV shows,' 'Garfield merchandise,' and 'Garfield cultural impact.' For example, 'Since his debut in 1978 in the Garfield comic by Jim Davis, this lasagna-loving, Monday-hating cat...'\",\n",
      "    \"Enhance Title with Keywords\": \"Modify the title to make it keyword-rich for better searchability. Consider something like 'Garfield’s Cultural Impact: How Jim Davis’s Comic Strip Icon Shaped Pop Culture.'\",\n",
      "    \"Add Meta Description\": \"Create a concise meta description (around 150-160 characters) that includes target keywords, such as 'Discover how Jim Davis’s Garfield comic strip icon influenced pop culture from TV shows to merchandise.'\"\n",
      "  }\n",
      "}\n",
      "```\n",
      "```json\n",
      "{\n",
      "  \"Reviewer\": \"SEO Reviewer\",\n",
      "  \"Review\": {\n",
      "    \"Incorporate Keywords Strategically\": \"Include relevant keywords such as 'Garfield comic,' 'Jim Davis,' 'Garfield TV shows,' 'Garfield merchandise,' and 'Garfield cultural impact.' For example, 'Since his debut in 1978 in the Garfield comic by Jim Davis, this lasagna-loving, Monday-hating cat...'\",\n",
      "    \"Enhance Title with Keywords\": \"Modify the title to make it keyword-rich for better searchability. Consider something like 'Garfield’s Cultural Impact: How Jim Davis’s Comic Strip Icon Shaped Pop Culture.'\",\n",
      "    \"Add Meta Description\": \"Create a concise meta description (around 150-160 characters) that includes target keywords, such as 'Discover how Jim Davis’s Garfield comic strip icon influenced pop culture from TV shows to merchandise.'\"\n",
      "  }\n",
      "}\n",
      "```\n",
      "\n",
      "--------------------------------------------------------------------------------\n",
      "\u001b[33mCasualness Reviewer\u001b[0m (to Critic):\n",
      "\n",
      "**Text Casualness Reviewer**\n",
      "\n",
      "### Feedback:\n",
      "1. **Opening Sentence**:\n",
      "   Current: \"Since his debut in 1978, Jim Davis's Garfield has transcended his comic-strip origins to become a global phenomenon.\"\n",
      "   Suggestion: \"Since breaking onto the scene in 1978, Jim Davis's Garfield has become a worldwide sensation.\"\n",
      "\n",
      "2. **Middle Content**:\n",
      "   Current: \"This lasagna-loving, Monday-hating cat has left an indelible mark on pop culture, inspiring TV shows, merchandise, and even philosophical musings on apathy and indulgence.\"\n",
      "   Suggestion: \"Garfield, our lasagna-loving, Monday-loathing feline, has inspired TV shows, merchandise, and even quirky takes on life's little indulgences.\"\n",
      "\n",
      "3. **Closing Sentence**:\n",
      "   Current: \"Beyond humor, Garfield offers a mirror to society's quirks, proving that even a simple comic strip can spark widespread cultural dialogues.\"\n",
      "   Suggestion: \"More than just laughs, Garfield reflects our everyday quirks, showing how a simple comic can ignite big cultural conversations.\"\n",
      "\n",
      "--------------------------------------------------------------------------------\n",
      "\u001b[34m\n",
      "********************************************************************************\u001b[0m\n",
      "\u001b[34mStarting a new chat....\u001b[0m\n",
      "\u001b[34m\n",
      "********************************************************************************\u001b[0m\n",
      "\u001b[33mCritic\u001b[0m (to Meta Reviewer):\n",
      "\n",
      "Aggregrate feedback from all reviewers and give final suggestions on the writing.\n",
      "Context: \n",
      "```json\n",
      "{\n",
      "  \"Reviewer\": \"SEO Reviewer\",\n",
      "  \"Review\": {\n",
      "    \"Incorporate Keywords Strategically\": \"Include relevant keywords such as 'Garfield comic,' 'Jim Davis,' 'Garfield TV shows,' 'Garfield merchandise,' and 'Garfield cultural impact.' For example, 'Since his debut in 1978 in the Garfield comic by Jim Davis, this lasagna-loving, Monday-hating cat...'\",\n",
      "    \"Enhance Title with Keywords\": \"Modify the title to make it keyword-rich for better searchability. Consider something like 'Garfield’s Cultural Impact: How Jim Davis’s Comic Strip Icon Shaped Pop Culture.'\",\n",
      "    \"Add Meta Description\": \"Create a concise meta description (around 150-160 characters) that includes target keywords, such as 'Discover how Jim Davis’s Garfield comic strip icon influenced pop culture from TV shows to merchandise.'\"\n",
      "  }\n",
      "}\n",
      "```\n",
      "```json\n",
      "{\n",
      "  \"Reviewer\": \"SEO Reviewer\",\n",
      "  \"Review\": {\n",
      "    \"Incorporate Keywords Strategically\": \"Include relevant keywords such as 'Garfield comic,' 'Jim Davis,' 'Garfield TV shows,' 'Garfield merchandise,' and 'Garfield cultural impact.' For example, 'Since his debut in 1978 in the Garfield comic by Jim Davis, this lasagna-loving, Monday-hating cat...'\",\n",
      "    \"Enhance Title with Keywords\": \"Modify the title to make it keyword-rich for better searchability. Consider something like 'Garfield’s Cultural Impact: How Jim Davis’s Comic Strip Icon Shaped Pop Culture.'\",\n",
      "    \"Add Meta Description\": \"Create a concise meta description (around 150-160 characters) that includes target keywords, such as 'Discover how Jim Davis’s Garfield comic strip icon influenced pop culture from TV shows to merchandise.'\"\n",
      "  }\n",
      "}\n",
      "```\n",
      "```json\n",
      "{\n",
      "  \"reviewer\": \"Text Casualness Reviewer\",\n",
      "  \"review\": {\n",
      "    \"Opening Sentence\": {\n",
      "      \"Current\": \"Since his debut in 1978, Jim Davis's Garfield has transcended his comic-strip origins to become a global phenomenon.\",\n",
      "      \"Suggestion\": \"Since breaking onto the scene in 1978, Jim Davis's Garfield has become a worldwide sensation.\"\n",
      "    },\n",
      "    \"Middle Content\": {\n",
      "      \"Current\": \"This lasagna-loving, Monday-hating cat has left an indelible mark on pop culture, inspiring TV shows, merchandise, and even philosophical musings on apathy and indulgence.\",\n",
      "      \"Suggestion\": \"Garfield, our lasagna-loving, Monday-loathing feline, has inspired TV shows, merchandise, and even quirky takes on life's little indulgences.\"\n",
      "    },\n",
      "    \"Closing Sentence\": {\n",
      "      \"Current\": \"Beyond humor, Garfield offers a mirror to society's quirks, proving that even a simple comic strip can spark widespread cultural dialogues.\",\n",
      "      \"Suggestion\": \"More than just laughs, Garfield reflects our everyday quirks, showing how a simple comic can ignite big cultural conversations.\"\n",
      "    }\n",
      "  }\n",
      "}\n",
      "```\n",
      "\n",
      "--------------------------------------------------------------------------------\n",
      "\u001b[33mMeta Reviewer\u001b[0m (to Critic):\n",
      "\n",
      "### Aggregated Reviewer Feedback\n",
      "\n",
      "#### **SEO Reviewer Suggestions:**\n",
      "\n",
      "1. **Incorporate Keywords Strategically:**\n",
      "   - Include relevant keywords such as \"Garfield comic,\" \"Jim Davis,\" \"Garfield TV shows,\" \"Garfield merchandise,\" and \"Garfield cultural impact.\"\n",
      "   - Example: \"Since his debut in 1978 in the *Garfield comic* by *Jim Davis*, this lasagna-loving, Monday-hating cat...\"\n",
      "\n",
      "2. **Enhance Title with Keywords:**\n",
      "   - Modify the title to be more keyword-rich for better searchability.\n",
      "   - Suggested Title: \"Garfield’s Cultural Impact: How Jim Davis’s Comic Strip Icon Shaped Pop Culture.\"\n",
      "\n",
      "3. **Add Meta Description:**\n",
      "   - Create a concise meta description (around 150-160 characters) that includes target keywords.\n",
      "   - Suggested Meta Description: \"Discover how Jim Davis’s Garfield comic strip icon influenced pop culture from TV shows to merchandise.\"\n",
      "\n",
      "#### **Text Casualness Reviewer Suggestions:**\n",
      "\n",
      "1. **Opening Sentence:**\n",
      "   - **Current:** \"Since his debut in 1978, Jim Davis's Garfield has transcended his comic-strip origins to become a global phenomenon.\"\n",
      "   - **Suggested:** \"Since breaking onto the scene in 1978, Jim Davis's Garfield has become a worldwide sensation.\"\n",
      "\n",
      "2. **Middle Content:**\n",
      "   - **Current:** \"This lasagna-loving, Monday-hating cat has left an indelible mark on pop culture, inspiring TV shows, merchandise, and even philosophical musings on apathy and indulgence.\"\n",
      "   - **Suggested:** \"Garfield, our lasagna-loving, Monday-loathing feline, has inspired TV shows, merchandise, and even quirky takes on life's little indulgences.\"\n",
      "\n",
      "3. **Closing Sentence:**\n",
      "   - **Current:** \"Beyond humor, Garfield offers a mirror to society's quirks, proving that even a simple comic strip can spark widespread cultural dialogues.\"\n",
      "   - **Suggested:** \"More than just laughs, Garfield reflects our everyday quirks, showing how a simple comic can ignite big cultural conversations.\"\n",
      "\n",
      "### Final Suggestions:\n",
      "\n",
      "1. **Implement SEO Keywords:**\n",
      "   Incorporate the specified keywords strategically throughout the text to improve SEO and searchability. This should drive more traffic to the content and make it easier for readers to find.\n",
      "\n",
      "2. **Enhance Title:**\n",
      "   Adjust the title to be more SEO-friendly. The suggested title \"Garfield’s Cultural Impact: How Jim Davis’s Comic Strip Icon Shaped Pop Culture\" effectively incorporates high-impact keywords.\n",
      "\n",
      "3. **Add Meta Description:**\n",
      "   Include a meta description like \"Discover how Jim Davis’s Garfield comic strip icon influenced pop culture from TV shows to merchandise.\" This concise and keyword-rich description will enhance the content's visibility in search engine results.\n",
      "\n",
      "4. **Adjust Tone for Casualness:**\n",
      "   Make the writing more accessible and engaging by following the Text Casualness Reviewer’s suggestions. The adjustments suggested offer a more casual and conversational tone that can capture readers' interest and make the text more relatable.\n",
      "\n",
      "### Example of Revised Content:\n",
      "\n",
      "**Title:** Garfield’s Cultural Impact: How Jim Davis’s Comic Strip Icon Shaped Pop Culture\n",
      "\n",
      "**Opening Sentence:**\n",
      "\"Since breaking onto the scene in 1978, Jim Davis's *Garfield* has become a worldwide sensation.\"\n",
      "\n",
      "**Middle Content:**\n",
      "\"Garfield, our lasagna-loving, Monday-loathing feline, has inspired TV shows, merchandise, and even quirky takes on life's little indulgences.\"\n",
      "\n",
      "**Closing Sentence:**\n",
      "\"More than just laughs, Garfield reflects our everyday quirks, showing how a simple comic can ignite big cultural conversations.\"\n",
      "\n",
      "**Meta Description:**\n",
      "\"Discover how Jim Davis’s *Garfield* comic strip icon influenced pop culture from TV shows to merchandise.\"\n",
      "\n",
      "---\n",
      "\n",
      "By implementing these changes, the content will become more SEO-friendly, engaging, and accessible to a wider audience.\n",
      "\n",
      "--------------------------------------------------------------------------------\n",
      "\u001b[33mCritic\u001b[0m (to Writer):\n",
      "\n",
      "### Aggregated Reviewer Feedback\n",
      "\n",
      "#### **SEO Reviewer Suggestions:**\n",
      "\n",
      "1. **Incorporate Keywords Strategically:**\n",
      "   - Include relevant keywords such as \"Garfield comic,\" \"Jim Davis,\" \"Garfield TV shows,\" \"Garfield merchandise,\" and \"Garfield cultural impact.\"\n",
      "   - Example: \"Since his debut in 1978 in the *Garfield comic* by *Jim Davis*, this lasagna-loving, Monday-hating cat...\"\n",
      "\n",
      "2. **Enhance Title with Keywords:**\n",
      "   - Modify the title to be more keyword-rich for better searchability.\n",
      "   - Suggested Title: \"Garfield’s Cultural Impact: How Jim Davis’s Comic Strip Icon Shaped Pop Culture.\"\n",
      "\n",
      "3. **Add Meta Description:**\n",
      "   - Create a concise meta description (around 150-160 characters) that includes target keywords.\n",
      "   - Suggested Meta Description: \"Discover how Jim Davis’s Garfield comic strip icon influenced pop culture from TV shows to merchandise.\"\n",
      "\n",
      "#### **Text Casualness Reviewer Suggestions:**\n",
      "\n",
      "1. **Opening Sentence:**\n",
      "   - **Current:** \"Since his debut in 1978, Jim Davis's Garfield has transcended his comic-strip origins to become a global phenomenon.\"\n",
      "   - **Suggested:** \"Since breaking onto the scene in 1978, Jim Davis's Garfield has become a worldwide sensation.\"\n",
      "\n",
      "2. **Middle Content:**\n",
      "   - **Current:** \"This lasagna-loving, Monday-hating cat has left an indelible mark on pop culture, inspiring TV shows, merchandise, and even philosophical musings on apathy and indulgence.\"\n",
      "   - **Suggested:** \"Garfield, our lasagna-loving, Monday-loathing feline, has inspired TV shows, merchandise, and even quirky takes on life's little indulgences.\"\n",
      "\n",
      "3. **Closing Sentence:**\n",
      "   - **Current:** \"Beyond humor, Garfield offers a mirror to society's quirks, proving that even a simple comic strip can spark widespread cultural dialogues.\"\n",
      "   - **Suggested:** \"More than just laughs, Garfield reflects our everyday quirks, showing how a simple comic can ignite big cultural conversations.\"\n",
      "\n",
      "### Final Suggestions:\n",
      "\n",
      "1. **Implement SEO Keywords:**\n",
      "   Incorporate the specified keywords strategically throughout the text to improve SEO and searchability. This should drive more traffic to the content and make it easier for readers to find.\n",
      "\n",
      "2. **Enhance Title:**\n",
      "   Adjust the title to be more SEO-friendly. The suggested title \"Garfield’s Cultural Impact: How Jim Davis’s Comic Strip Icon Shaped Pop Culture\" effectively incorporates high-impact keywords.\n",
      "\n",
      "3. **Add Meta Description:**\n",
      "   Include a meta description like \"Discover how Jim Davis’s Garfield comic strip icon influenced pop culture from TV shows to merchandise.\" This concise and keyword-rich description will enhance the content's visibility in search engine results.\n",
      "\n",
      "4. **Adjust Tone for Casualness:**\n",
      "   Make the writing more accessible and engaging by following the Text Casualness Reviewer’s suggestions. The adjustments suggested offer a more casual and conversational tone that can capture readers' interest and make the text more relatable.\n",
      "\n",
      "### Example of Revised Content:\n",
      "\n",
      "**Title:** Garfield’s Cultural Impact: How Jim Davis’s Comic Strip Icon Shaped Pop Culture\n",
      "\n",
      "**Opening Sentence:**\n",
      "\"Since breaking onto the scene in 1978, Jim Davis's *Garfield* has become a worldwide sensation.\"\n",
      "\n",
      "**Middle Content:**\n",
      "\"Garfield, our lasagna-loving, Monday-loathing feline, has inspired TV shows, merchandise, and even quirky takes on life's little indulgences.\"\n",
      "\n",
      "**Closing Sentence:**\n",
      "\"More than just laughs, Garfield reflects our everyday quirks, showing how a simple comic can ignite big cultural conversations.\"\n",
      "\n",
      "**Meta Description:**\n",
      "\"Discover how Jim Davis’s *Garfield* comic strip icon influenced pop culture from TV shows to merchandise.\"\n",
      "\n",
      "---\n",
      "\n",
      "By implementing these changes, the content will become more SEO-friendly, engaging, and accessible to a wider audience.\n",
      "\n",
      "--------------------------------------------------------------------------------\n",
      "\u001b[33mWriter\u001b[0m (to Critic):\n",
      "\n",
      "**Garfield’s Cultural Impact: How Jim Davis’s Comic Strip Icon Shaped Pop Culture**\n",
      "\n",
      "Since breaking onto the scene in 1978, Jim Davis's *Garfield* has become a worldwide sensation. Garfield, our lasagna-loving, Monday-loathing feline, has inspired TV shows, merchandise, and even quirky takes on life's little indulgences. More than just laughs, Garfield reflects our everyday quirks, showing how a simple comic can ignite big cultural conversations.\n",
      "\n",
      "**Meta Description:** Discover how Jim Davis’s *Garfield* comic strip icon influenced pop culture from TV shows to merchandise.\n",
      "\n",
      "--------------------------------------------------------------------------------\n"
     ]
    }
   ],
   "source": [
    "res = critic.initiate_chat(\n",
    "    recipient=writer,\n",
    "    message=task,\n",
    "    max_turns=2,\n",
    "    summary_method=\"last_msg\"\n",
    ")"
   ]
  },
  {
   "cell_type": "markdown",
   "metadata": {},
   "source": [
    "**Notes:**\n",
    "- One reviwers comments passed on to the next, so the order matters - as the earlier reviewers suggestions would impact the review of the other\n",
    "- Need to maintain a good pull between the different perspectives to ensure quality of the final message (ex: Casualness vs Appeal vs Quality)"
   ]
  }
 ],
 "metadata": {
  "kernelspec": {
   "display_name": "Python 3.11.5 ('base')",
   "language": "python",
   "name": "python3"
  },
  "language_info": {
   "codemirror_mode": {
    "name": "ipython",
    "version": 3
   },
   "file_extension": ".py",
   "mimetype": "text/x-python",
   "name": "python",
   "nbconvert_exporter": "python",
   "pygments_lexer": "ipython3",
   "version": "3.11.5"
  },
  "orig_nbformat": 4,
  "vscode": {
   "interpreter": {
    "hash": "ac9d25aa1809562b78450ffbaf528b6067bd8b0570a3ba43fb0c8aa79f9941b4"
   }
  }
 },
 "nbformat": 4,
 "nbformat_minor": 2
}
